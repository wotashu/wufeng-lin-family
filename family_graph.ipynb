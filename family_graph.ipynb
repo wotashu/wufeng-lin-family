{
    "cells": [
        {
            "cell_type": "markdown",
            "id": "intro",
            "metadata": {},
            "source": [
                "# Family Graph Notebook (Interactive)\n",
                "\n",
                "This notebook loads a JSON list of combined houses, converts each record into a `FamilyMember` instance using Pydantic, creates an undirected graph based on the parents and children relationships, and then displays an interactive graph using Pyvis. Node labels use the English name (`name.english`) if available, falling back to `name.hanzi`."
            ]
        },
        {
            "cell_type": "code",
            "execution_count": 6,
            "id": "load-functions",
            "metadata": {},
            "outputs": [],
            "source": [
                "import json\n",
                "from pathlib import Path\n",
                "\n",
                "import networkx as nx\n",
                "\n",
                "from src.models import FamilyMember\n",
                "\n",
                "\n",
                "def load_family_members(json_path: Path):\n",
                "    \"\"\"\n",
                "    Load the JSON list file and convert each record into a FamilyMember instance.\n",
                "    \"\"\"\n",
                "    with open(json_path, \"r\", encoding=\"utf-8\") as infile:\n",
                "        data = json.load(infile)\n",
                "\n",
                "    members = []\n",
                "    for record in data:\n",
                "        try:\n",
                "            member = FamilyMember.parse_obj(record)\n",
                "            members.append(member)\n",
                "        except Exception as e:\n",
                "            print(f\"Error parsing record: {record}\\n{e}\")\n",
                "    return members\n",
                "\n",
                "\n",
                "def get_member_key(member: FamilyMember) -> str:\n",
                "    \"\"\"\n",
                "    Get a unique key for the member.\n",
                "    Prefer name.english; if missing, use name.hanzi.\n",
                "    \"\"\"\n",
                "    return member.name.english if member.name.english else member.name.hanzi\n",
                "\n",
                "\n",
                "def create_family_graph(members):\n",
                "    \"\"\"\n",
                "    Create an undirected graph from a list of FamilyMember instances.\n",
                "    Nodes are keyed by the canonical family member name (English name if available).\n",
                "    Edges are added for both 'parents' and 'children' relationships.\n",
                "    \"\"\"\n",
                "    G = nx.Graph()\n",
                "    # Build a mapping from key -> member instance\n",
                "    mapping = {}\n",
                "    for member in members:\n",
                "        node_label = get_member_key(member)  # English name if available\n",
                "        mapping[node_label] = member\n",
                "        # Add node with the label set to the English name\n",
                "        G.add_node(node_label, label=node_label, data=member.dict())\n",
                "\n",
                "    # For each member, connect to parents and children (undirected)\n",
                "    for member in members:\n",
                "        child_key = get_member_key(member)\n",
                "        # Process parent's relationships\n",
                "        for parent in member.parents:\n",
                "            if isinstance(parent, str):\n",
                "                parent_key = parent\n",
                "            else:\n",
                "                parent_key = get_member_key(parent)\n",
                "            # Add edge if both nodes exist and avoid self-loop\n",
                "            if parent_key in G.nodes and parent_key != child_key:\n",
                "                G.add_edge(child_key, parent_key)\n",
                "        # Process children relationships\n",
                "        for child in member.children:\n",
                "            if isinstance(child, str):\n",
                "                ch_key = child\n",
                "            else:\n",
                "                ch_key = get_member_key(child)\n",
                "            if ch_key in G.nodes and ch_key != child_key:\n",
                "                G.add_edge(child_key, ch_key)\n",
                "    return G\n"
            ]
        },
        {
            "cell_type": "code",
            "execution_count": null,
            "id": "interactive-graph",
            "metadata": {},
            "outputs": [
                {
                    "name": "stdout",
                    "output_type": "stream",
                    "text": [
                        "Loaded 80 family members.\n",
                        "Graph has 79 nodes and 95 edges.\n",
                        "Warning: When  cdn_resources is 'local' jupyter notebook has issues displaying graphics on chrome/safari. Use cdn_resources='in_line' or cdn_resources='remote' if you have issues viewing graphics in a notebook.\n",
                        "family_graph_interactive.html\n"
                    ]
                },
                {
                    "name": "stderr",
                    "output_type": "stream",
                    "text": [
                        "/tmp/ipykernel_21955/2924579710.py:19: PydanticDeprecatedSince20: The `parse_obj` method is deprecated; use `model_validate` instead. Deprecated in Pydantic V2.0 to be removed in V3.0. See Pydantic V2 Migration Guide at https://errors.pydantic.dev/2.11/migration/\n",
                        "  member = FamilyMember.parse_obj(record)\n",
                        "/tmp/ipykernel_21955/2924579710.py:47: PydanticDeprecatedSince20: The `dict` method is deprecated; use `model_dump` instead. Deprecated in Pydantic V2.0 to be removed in V3.0. See Pydantic V2 Migration Guide at https://errors.pydantic.dev/2.11/migration/\n",
                        "  G.add_node(node_label, label=node_label, data=member.dict())\n"
                    ]
                },
                {
                    "data": {
                        "text/html": [
                            "\n",
                            "        <iframe\n",
                            "            width=\"100%\"\n",
                            "            height=\"700px\"\n",
                            "            src=\"family_graph_interactive.html\"\n",
                            "            frameborder=\"0\"\n",
                            "            allowfullscreen\n",
                            "            \n",
                            "        ></iframe>\n",
                            "        "
                        ],
                        "text/plain": [
                            "<IPython.lib.display.IFrame at 0x7ff4a5545e50>"
                        ]
                    },
                    "execution_count": 7,
                    "metadata": {},
                    "output_type": "execute_result"
                }
            ],
            "source": [
                "# Set path for the combined JSON file\n",
                "json_path = Path(\"data/combined_houses.json\")\n",
                "\n",
                "# Load family members\n",
                "members = load_family_members(json_path)\n",
                "print(f\"Loaded {len(members)} family members.\")\n",
                "\n",
                "# Create family graph\n",
                "family_graph = create_family_graph(members)\n",
                "print(f\"Graph has {family_graph.number_of_nodes()} nodes and {family_graph.number_of_edges()} edges.\")\n",
                "\n",
                "# Use Pyvis for an interactive plot\n",
                "from pyvis.network import Network\n",
                "net = Network(notebook=True, height=\"700px\", width=\"100%\", directed=False)\n",
                "\n",
                "# Load the NetworkX graph into Pyvis\n",
                "net.from_nx(family_graph)\n",
                "\n",
                "# Set some basic options (customize as needed)\n",
                "net.set_options(\"\"\"\n",
                "{\n",
                "  \"nodes\": {\n",
                "    \"font\": {\n",
                "      \"size\": 16,\n",
                "      \"face\": \"arial\"\n",
                "    }\n",
                "  },\n",
                "  \"physics\": {\n",
                "    \"barnesHut\": {\n",
                "      \"gravitationalConstant\": -8000,\n",
                "      \"centralGravity\": 0.3,\n",
                "      \"springLength\": 95\n",
                "    }\n",
                "  }\n",
                "}\n",
                "\"\"\"\n",
                ")\n",
                "\n",
                "# Save and display the interactive graph\n",
                "net.show(\"family_graph_interactive.html\")\n",
                "\n",
                "# (Optional) Embed the interactive graph in the notebook using an IFrame\n",
                "from IPython.display import IFrame\n",
                "IFrame(src=\"family_graph_interactive.html\", width=\"100%\", height=\"700px\", cdn_resources='inlined')\n"
            ]
        },
        {
            "cell_type": "markdown",
            "id": "conclusion",
            "metadata": {},
            "source": [
                "The above cell loads the family members, creates the family graph, and then uses Pyvis to display an interactive network. The nodes display the English name (from `name.english`, falling back to `name.hanzi`)."
            ]
        }
    ],
    "metadata": {
        "kernelspec": {
            "display_name": "Python 3",
            "language": "python",
            "name": "python3"
        },
        "language_info": {
            "name": "python",
            "version": "3.x"
        }
    },
    "nbformat": 4,
    "nbformat_minor": 5
}
